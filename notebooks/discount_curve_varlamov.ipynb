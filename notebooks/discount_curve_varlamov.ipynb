{
 "cells": [
  {
   "cell_type": "code",
   "execution_count": 1,
   "metadata": {},
   "outputs": [],
   "source": [
    "import sys\n",
    "sys.path.append('../src')"
   ]
  },
  {
   "cell_type": "code",
   "execution_count": 2,
   "metadata": {},
   "outputs": [],
   "source": [
    "from interpolation import Interpolator\n",
    "import pandas as pd\n",
    "import seaborn as sns\n",
    "import matplotlib.pyplot as plt"
   ]
  },
  {
   "cell_type": "code",
   "execution_count": 3,
   "metadata": {},
   "outputs": [
    {
     "data": {
      "text/html": [
       "<div>\n",
       "<style scoped>\n",
       "    .dataframe tbody tr th:only-of-type {\n",
       "        vertical-align: middle;\n",
       "    }\n",
       "\n",
       "    .dataframe tbody tr th {\n",
       "        vertical-align: top;\n",
       "    }\n",
       "\n",
       "    .dataframe thead th {\n",
       "        text-align: right;\n",
       "    }\n",
       "</style>\n",
       "<table border=\"1\" class=\"dataframe\">\n",
       "  <thead>\n",
       "    <tr style=\"text-align: right;\">\n",
       "      <th></th>\n",
       "      <th>USD Rate MKT Data</th>\n",
       "      <th>Unnamed: 1</th>\n",
       "      <th>Conv, adj</th>\n",
       "      <th>StartDate</th>\n",
       "      <th>EndDate</th>\n",
       "    </tr>\n",
       "  </thead>\n",
       "  <tbody>\n",
       "    <tr>\n",
       "      <th>0</th>\n",
       "      <td>Libor3m</td>\n",
       "      <td>0.001295</td>\n",
       "      <td>NaN</td>\n",
       "      <td>2021-10-28</td>\n",
       "      <td>2022-01-28</td>\n",
       "    </tr>\n",
       "    <tr>\n",
       "      <th>1</th>\n",
       "      <td>EDZ1</td>\n",
       "      <td>99.810000</td>\n",
       "      <td>0.00014</td>\n",
       "      <td>2021-12-15</td>\n",
       "      <td>2022-03-15</td>\n",
       "    </tr>\n",
       "    <tr>\n",
       "      <th>2</th>\n",
       "      <td>EDH2</td>\n",
       "      <td>99.785000</td>\n",
       "      <td>0.00073</td>\n",
       "      <td>2022-03-16</td>\n",
       "      <td>2022-06-16</td>\n",
       "    </tr>\n",
       "    <tr>\n",
       "      <th>3</th>\n",
       "      <td>EDM2</td>\n",
       "      <td>99.680000</td>\n",
       "      <td>0.00165</td>\n",
       "      <td>2022-06-15</td>\n",
       "      <td>2022-09-15</td>\n",
       "    </tr>\n",
       "    <tr>\n",
       "      <th>4</th>\n",
       "      <td>EDU2</td>\n",
       "      <td>99.520000</td>\n",
       "      <td>0.00287</td>\n",
       "      <td>2022-09-21</td>\n",
       "      <td>2022-12-21</td>\n",
       "    </tr>\n",
       "    <tr>\n",
       "      <th>5</th>\n",
       "      <td>EDZ2</td>\n",
       "      <td>99.295000</td>\n",
       "      <td>0.00451</td>\n",
       "      <td>2022-12-21</td>\n",
       "      <td>2023-03-21</td>\n",
       "    </tr>\n",
       "    <tr>\n",
       "      <th>6</th>\n",
       "      <td>EDH3</td>\n",
       "      <td>99.110000</td>\n",
       "      <td>0.00636</td>\n",
       "      <td>2023-03-15</td>\n",
       "      <td>2023-06-15</td>\n",
       "    </tr>\n",
       "    <tr>\n",
       "      <th>7</th>\n",
       "      <td>EDM3</td>\n",
       "      <td>98.920000</td>\n",
       "      <td>0.00839</td>\n",
       "      <td>2023-06-21</td>\n",
       "      <td>2023-09-21</td>\n",
       "    </tr>\n",
       "    <tr>\n",
       "      <th>8</th>\n",
       "      <td>EDU3</td>\n",
       "      <td>98.690000</td>\n",
       "      <td>0.01104</td>\n",
       "      <td>2023-09-20</td>\n",
       "      <td>2023-12-20</td>\n",
       "    </tr>\n",
       "    <tr>\n",
       "      <th>9</th>\n",
       "      <td>EDZ3</td>\n",
       "      <td>98.585000</td>\n",
       "      <td>0.01380</td>\n",
       "      <td>2023-12-20</td>\n",
       "      <td>2024-03-20</td>\n",
       "    </tr>\n",
       "    <tr>\n",
       "      <th>10</th>\n",
       "      <td>EDH4</td>\n",
       "      <td>98.490000</td>\n",
       "      <td>0.01688</td>\n",
       "      <td>2024-03-20</td>\n",
       "      <td>2024-06-20</td>\n",
       "    </tr>\n",
       "    <tr>\n",
       "      <th>11</th>\n",
       "      <td>EDM4</td>\n",
       "      <td>98.410000</td>\n",
       "      <td>0.01387</td>\n",
       "      <td>2024-06-19</td>\n",
       "      <td>2024-09-19</td>\n",
       "    </tr>\n",
       "    <tr>\n",
       "      <th>12</th>\n",
       "      <td>EDU4</td>\n",
       "      <td>98.335000</td>\n",
       "      <td>0.01696</td>\n",
       "      <td>2024-09-18</td>\n",
       "      <td>2024-12-18</td>\n",
       "    </tr>\n",
       "  </tbody>\n",
       "</table>\n",
       "</div>"
      ],
      "text/plain": [
       "   USD Rate MKT Data  Unnamed: 1  Conv, adj  StartDate    EndDate\n",
       "0            Libor3m    0.001295        NaN 2021-10-28 2022-01-28\n",
       "1               EDZ1   99.810000    0.00014 2021-12-15 2022-03-15\n",
       "2               EDH2   99.785000    0.00073 2022-03-16 2022-06-16\n",
       "3               EDM2   99.680000    0.00165 2022-06-15 2022-09-15\n",
       "4               EDU2   99.520000    0.00287 2022-09-21 2022-12-21\n",
       "5               EDZ2   99.295000    0.00451 2022-12-21 2023-03-21\n",
       "6               EDH3   99.110000    0.00636 2023-03-15 2023-06-15\n",
       "7               EDM3   98.920000    0.00839 2023-06-21 2023-09-21\n",
       "8               EDU3   98.690000    0.01104 2023-09-20 2023-12-20\n",
       "9               EDZ3   98.585000    0.01380 2023-12-20 2024-03-20\n",
       "10              EDH4   98.490000    0.01688 2024-03-20 2024-06-20\n",
       "11              EDM4   98.410000    0.01387 2024-06-19 2024-09-19\n",
       "12              EDU4   98.335000    0.01696 2024-09-18 2024-12-18"
      ]
     },
     "metadata": {},
     "output_type": "display_data"
    }
   ],
   "source": [
    "# Загрузка данных\n",
    "rates = pd.read_csv('../data/USD rates.csv')\n",
    "\n",
    "rates['EndDate'] = pd.to_datetime(rates['EndDate'])\n",
    "rates['StartDate'] = pd.to_datetime(rates['StartDate'])\n",
    "display(rates)"
   ]
  },
  {
   "cell_type": "code",
   "execution_count": 4,
   "metadata": {},
   "outputs": [
    {
     "data": {
      "text/plain": [
       "[0, 92]"
      ]
     },
     "execution_count": 4,
     "metadata": {},
     "output_type": "execute_result"
    }
   ],
   "source": [
    "# time to maturity for LIBOR\n",
    "delta=(rates['EndDate'][0]-rates['StartDate'][0]).days/360\n",
    "time_to_maturity=[0]\n",
    "time_to_maturity.append((rates['EndDate'][0]-rates['StartDate'][0]).days)\n",
    "time_to_maturity"
   ]
  },
  {
   "cell_type": "code",
   "execution_count": 5,
   "metadata": {},
   "outputs": [
    {
     "data": {
      "text/plain": [
       "[1, 0.9996691650435465]"
      ]
     },
     "execution_count": 5,
     "metadata": {},
     "output_type": "execute_result"
    }
   ],
   "source": [
    "# zero-coupon bond prices\n",
    "P=[1]\n",
    "P.append(1/(1+delta*rates['Unnamed: 1'][0]))\n",
    "P"
   ]
  },
  {
   "cell_type": "code",
   "execution_count": 6,
   "metadata": {},
   "outputs": [],
   "source": [
    "# dicount curve\n",
    "def discount_curve(rates:pd.DataFrame):\n",
    "    for i in range(rates.shape[0]-2):\n",
    "        i+=1\n",
    "        delta=(rates['StartDate'][i+1]-rates['StartDate'][i]).days/360\n",
    "        F=1-rates['Unnamed: 1'][i]/100-rates['Conv, adj'][i]\n",
    "        time_to_maturity.append((rates['StartDate'][i+1]-rates['StartDate'][0]).days)\n",
    "        P.append(P[-1]/(1+F*delta))\n",
    "    curve=pd.DataFrame({'time_to_maturity(days)':time_to_maturity,'discount_factor':P})\n",
    "    return curve"
   ]
  },
  {
   "cell_type": "code",
   "execution_count": 7,
   "metadata": {},
   "outputs": [
    {
     "data": {
      "text/html": [
       "<div>\n",
       "<style scoped>\n",
       "    .dataframe tbody tr th:only-of-type {\n",
       "        vertical-align: middle;\n",
       "    }\n",
       "\n",
       "    .dataframe tbody tr th {\n",
       "        vertical-align: top;\n",
       "    }\n",
       "\n",
       "    .dataframe thead th {\n",
       "        text-align: right;\n",
       "    }\n",
       "</style>\n",
       "<table border=\"1\" class=\"dataframe\">\n",
       "  <thead>\n",
       "    <tr style=\"text-align: right;\">\n",
       "      <th></th>\n",
       "      <th>time_to_maturity(days)</th>\n",
       "      <th>discount_factor</th>\n",
       "    </tr>\n",
       "  </thead>\n",
       "  <tbody>\n",
       "    <tr>\n",
       "      <th>0</th>\n",
       "      <td>0</td>\n",
       "      <td>1.000000</td>\n",
       "    </tr>\n",
       "    <tr>\n",
       "      <th>1</th>\n",
       "      <td>92</td>\n",
       "      <td>0.999669</td>\n",
       "    </tr>\n",
       "    <tr>\n",
       "      <th>2</th>\n",
       "      <td>139</td>\n",
       "      <td>0.999225</td>\n",
       "    </tr>\n",
       "    <tr>\n",
       "      <th>3</th>\n",
       "      <td>230</td>\n",
       "      <td>0.998866</td>\n",
       "    </tr>\n",
       "    <tr>\n",
       "      <th>4</th>\n",
       "      <td>328</td>\n",
       "      <td>0.998445</td>\n",
       "    </tr>\n",
       "    <tr>\n",
       "      <th>5</th>\n",
       "      <td>419</td>\n",
       "      <td>0.997958</td>\n",
       "    </tr>\n",
       "    <tr>\n",
       "      <th>6</th>\n",
       "      <td>503</td>\n",
       "      <td>0.997367</td>\n",
       "    </tr>\n",
       "    <tr>\n",
       "      <th>7</th>\n",
       "      <td>601</td>\n",
       "      <td>0.996678</td>\n",
       "    </tr>\n",
       "    <tr>\n",
       "      <th>8</th>\n",
       "      <td>692</td>\n",
       "      <td>0.996071</td>\n",
       "    </tr>\n",
       "    <tr>\n",
       "      <th>9</th>\n",
       "      <td>783</td>\n",
       "      <td>0.995552</td>\n",
       "    </tr>\n",
       "    <tr>\n",
       "      <th>10</th>\n",
       "      <td>874</td>\n",
       "      <td>0.995464</td>\n",
       "    </tr>\n",
       "    <tr>\n",
       "      <th>11</th>\n",
       "      <td>965</td>\n",
       "      <td>0.995913</td>\n",
       "    </tr>\n",
       "    <tr>\n",
       "      <th>12</th>\n",
       "      <td>1056</td>\n",
       "      <td>0.995402</td>\n",
       "    </tr>\n",
       "  </tbody>\n",
       "</table>\n",
       "</div>"
      ],
      "text/plain": [
       "    time_to_maturity(days)  discount_factor\n",
       "0                        0         1.000000\n",
       "1                       92         0.999669\n",
       "2                      139         0.999225\n",
       "3                      230         0.998866\n",
       "4                      328         0.998445\n",
       "5                      419         0.997958\n",
       "6                      503         0.997367\n",
       "7                      601         0.996678\n",
       "8                      692         0.996071\n",
       "9                      783         0.995552\n",
       "10                     874         0.995464\n",
       "11                     965         0.995913\n",
       "12                    1056         0.995402"
      ]
     },
     "metadata": {},
     "output_type": "display_data"
    }
   ],
   "source": [
    "curve=discount_curve(rates)\n",
    "display(curve)"
   ]
  },
  {
   "cell_type": "code",
   "execution_count": 8,
   "metadata": {},
   "outputs": [
    {
     "data": {
      "image/png": "[encoded data removed]",
      "text/plain": [
       "<Figure size 432x288 with 1 Axes>"
      ]
     },
     "metadata": {
      "needs_background": "light"
     },
     "output_type": "display_data"
    }
   ],
   "source": [
    "fig = sns.scatterplot(\n",
    "    x = curve['time_to_maturity(days)'].values,\n",
    "    y = curve.discount_factor,\n",
    ")"
   ]
  },
  {
   "cell_type": "code",
   "execution_count": 9,
   "metadata": {},
   "outputs": [
    {
     "data": {
      "text/plain": [
       "[0, 92, 139, 230, 328, 419, 503, 601, 692, 783, 874, 965, 1056]"
      ]
     },
     "execution_count": 9,
     "metadata": {},
     "output_type": "execute_result"
    }
   ],
   "source": [
    "list(curve['time_to_maturity(days)'].values)"
   ]
  },
  {
   "cell_type": "code",
   "execution_count": 10,
   "metadata": {},
   "outputs": [
    {
     "data": {
      "text/plain": [
       "[1.0,\n",
       " 0.9996691650435465,\n",
       " 0.9992246211121096,\n",
       " 0.9988660836806285,\n",
       " 0.9984447954461055,\n",
       " 0.9979579305812499,\n",
       " 0.9973668245099236,\n",
       " 0.9966776772670756,\n",
       " 0.9960708764228858,\n",
       " 0.9955524701283017,\n",
       " 0.995464399180763,\n",
       " 0.9959125044793062,\n",
       " 0.9954017251440678]"
      ]
     },
     "execution_count": 10,
     "metadata": {},
     "output_type": "execute_result"
    }
   ],
   "source": [
    "list(curve['discount_factor'].values)"
   ]
  },
  {
   "cell_type": "code",
   "execution_count": 11,
   "metadata": {},
   "outputs": [],
   "source": [
    "time_to_maturity = range(1056)\n",
    "y = []\n",
    "for i in time_to_maturity:\n",
    "    y.append(\n",
    "        Interpolator.interpolate(\n",
    "            x_list=list(curve['time_to_maturity(days)'].values),\n",
    "            y_list=list(curve['discount_factor'].values),\n",
    "            z=i\n",
    "        )\n",
    "    )"
   ]
  },
  {
   "cell_type": "code",
   "execution_count": 12,
   "metadata": {},
   "outputs": [
    {
     "data": {
      "image/png": "[encoded data removed]",
      "text/plain": [
       "<Figure size 432x288 with 1 Axes>"
      ]
     },
     "metadata": {
      "needs_background": "light"
     },
     "output_type": "display_data"
    }
   ],
   "source": [
    "fig = sns.scatterplot(\n",
    "    x = time_to_maturity,\n",
    "    y = y,\n",
    ")\n",
    "plt.xlabel('time_to_maturity')\n",
    "plt.ylabel('discount_factor')\n",
    "None"
   ]
  }
 ],
 "metadata": {
  "kernelspec": {
   "display_name": "Python 3 (ipykernel)",
   "language": "python",
   "name": "python3"
  },
  "language_info": {
   "codemirror_mode": {
    "name": "ipython",
    "version": 3
   },
   "file_extension": ".py",
   "mimetype": "text/x-python",
   "name": "python",
   "nbconvert_exporter": "python",
   "pygments_lexer": "ipython3",
   "version": "3.8.10"
  },
  "toc": {
   "base_numbering": 1,
   "nav_menu": {},
   "number_sections": true,
   "sideBar": true,
   "skip_h1_title": false,
   "title_cell": "Table of Contents",
   "title_sidebar": "Contents",
   "toc_cell": false,
   "toc_position": {},
   "toc_section_display": true,
   "toc_window_display": false
  }
 },
 "nbformat": 4,
 "nbformat_minor": 4
}
