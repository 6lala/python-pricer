{
 "cells": [
  {
   "cell_type": "code",
   "execution_count": 1,
   "metadata": {},
   "outputs": [],
   "source": [
    "import pandas as pd\n",
    "import numpy as np"
   ]
  },
  {
   "cell_type": "code",
   "execution_count": 2,
   "metadata": {},
   "outputs": [
    {
     "data": {
      "text/html": [
       "<div>\n",
       "<style scoped>\n",
       "    .dataframe tbody tr th:only-of-type {\n",
       "        vertical-align: middle;\n",
       "    }\n",
       "\n",
       "    .dataframe tbody tr th {\n",
       "        vertical-align: top;\n",
       "    }\n",
       "\n",
       "    .dataframe thead th {\n",
       "        text-align: right;\n",
       "    }\n",
       "</style>\n",
       "<table border=\"1\" class=\"dataframe\">\n",
       "  <thead>\n",
       "    <tr style=\"text-align: right;\">\n",
       "      <th></th>\n",
       "      <th>USD Rate MKT Data</th>\n",
       "      <th>Unnamed: 1</th>\n",
       "      <th>Conv, adj</th>\n",
       "      <th>StartDate</th>\n",
       "      <th>EndDate</th>\n",
       "    </tr>\n",
       "  </thead>\n",
       "  <tbody>\n",
       "    <tr>\n",
       "      <th>0</th>\n",
       "      <td>Libor3m</td>\n",
       "      <td>0.001295</td>\n",
       "      <td>NaN</td>\n",
       "      <td>10/28/21</td>\n",
       "      <td>1/28/22</td>\n",
       "    </tr>\n",
       "    <tr>\n",
       "      <th>1</th>\n",
       "      <td>EDZ1</td>\n",
       "      <td>99.810000</td>\n",
       "      <td>0.00014</td>\n",
       "      <td>12/15/21</td>\n",
       "      <td>3/15/22</td>\n",
       "    </tr>\n",
       "    <tr>\n",
       "      <th>2</th>\n",
       "      <td>EDH2</td>\n",
       "      <td>99.785000</td>\n",
       "      <td>0.00073</td>\n",
       "      <td>3/16/22</td>\n",
       "      <td>6/16/22</td>\n",
       "    </tr>\n",
       "    <tr>\n",
       "      <th>3</th>\n",
       "      <td>EDM2</td>\n",
       "      <td>99.680000</td>\n",
       "      <td>0.00165</td>\n",
       "      <td>6/15/22</td>\n",
       "      <td>9/15/22</td>\n",
       "    </tr>\n",
       "    <tr>\n",
       "      <th>4</th>\n",
       "      <td>EDU2</td>\n",
       "      <td>99.520000</td>\n",
       "      <td>0.00287</td>\n",
       "      <td>9/21/22</td>\n",
       "      <td>12/21/22</td>\n",
       "    </tr>\n",
       "  </tbody>\n",
       "</table>\n",
       "</div>"
      ],
      "text/plain": [
       "  USD Rate MKT Data  Unnamed: 1  Conv, adj StartDate   EndDate\n",
       "0           Libor3m    0.001295        NaN  10/28/21   1/28/22\n",
       "1              EDZ1   99.810000    0.00014  12/15/21   3/15/22\n",
       "2              EDH2   99.785000    0.00073   3/16/22   6/16/22\n",
       "3              EDM2   99.680000    0.00165   6/15/22   9/15/22\n",
       "4              EDU2   99.520000    0.00287   9/21/22  12/21/22"
      ]
     },
     "execution_count": 2,
     "metadata": {},
     "output_type": "execute_result"
    }
   ],
   "source": [
    "data = pd.read_csv(\"../data/USD rates.csv\")\n",
    "data.head()"
   ]
  },
  {
   "cell_type": "markdown",
   "metadata": {},
   "source": [
    "Преобразуем дату в доли года."
   ]
  },
  {
   "cell_type": "code",
   "execution_count": 3,
   "metadata": {},
   "outputs": [],
   "source": [
    "data.StartDate = pd.to_datetime(data.StartDate)\n",
    "data.EndDate = pd.to_datetime(data.EndDate)\n",
    "min_year = data.StartDate.dt.year.min()"
   ]
  },
  {
   "cell_type": "code",
   "execution_count": 4,
   "metadata": {},
   "outputs": [],
   "source": [
    "data[\"StartDateShare\"] = (data.StartDate.dt.month * 12 + data.StartDate.dt.day) / 360 +(data.StartDate.dt.year - min_year)"
   ]
  },
  {
   "cell_type": "code",
   "execution_count": 5,
   "metadata": {},
   "outputs": [],
   "source": [
    "data[\"EndDateShare\"] = (data.EndDate.dt.month * 12 + data.EndDate.dt.day) / 360 + (data.EndDate.dt.year - min_year)"
   ]
  },
  {
   "cell_type": "markdown",
   "metadata": {},
   "source": [
    "Преобразуем цены фьючерсов в форвардные ставки. Также будем учитывать то, что фьючерсные ставки выше так, как несут в себе дополнительный риск (margin call)."
   ]
  },
  {
   "cell_type": "code",
   "execution_count": 6,
   "metadata": {},
   "outputs": [],
   "source": [
    "data[\"rates\"] = data[\"Unnamed: 1\"]\n",
    "data.loc[1:, \"rates\"] = 1 - 0.01*data.loc[1:, \"rates\"] - data.loc[1:, \"Conv, adj\"]"
   ]
  },
  {
   "cell_type": "code",
   "execution_count": 7,
   "metadata": {},
   "outputs": [
    {
     "data": {
      "text/html": [
       "<div>\n",
       "<style scoped>\n",
       "    .dataframe tbody tr th:only-of-type {\n",
       "        vertical-align: middle;\n",
       "    }\n",
       "\n",
       "    .dataframe tbody tr th {\n",
       "        vertical-align: top;\n",
       "    }\n",
       "\n",
       "    .dataframe thead th {\n",
       "        text-align: right;\n",
       "    }\n",
       "</style>\n",
       "<table border=\"1\" class=\"dataframe\">\n",
       "  <thead>\n",
       "    <tr style=\"text-align: right;\">\n",
       "      <th></th>\n",
       "      <th>USD Rate MKT Data</th>\n",
       "      <th>Unnamed: 1</th>\n",
       "      <th>Conv, adj</th>\n",
       "      <th>StartDate</th>\n",
       "      <th>EndDate</th>\n",
       "      <th>StartDateShare</th>\n",
       "      <th>EndDateShare</th>\n",
       "      <th>rates</th>\n",
       "    </tr>\n",
       "  </thead>\n",
       "  <tbody>\n",
       "    <tr>\n",
       "      <th>0</th>\n",
       "      <td>Libor3m</td>\n",
       "      <td>0.001295</td>\n",
       "      <td>NaN</td>\n",
       "      <td>2021-10-28</td>\n",
       "      <td>2022-01-28</td>\n",
       "      <td>0.411111</td>\n",
       "      <td>1.111111</td>\n",
       "      <td>0.001295</td>\n",
       "    </tr>\n",
       "    <tr>\n",
       "      <th>1</th>\n",
       "      <td>EDZ1</td>\n",
       "      <td>99.810000</td>\n",
       "      <td>0.00014</td>\n",
       "      <td>2021-12-15</td>\n",
       "      <td>2022-03-15</td>\n",
       "      <td>0.441667</td>\n",
       "      <td>1.141667</td>\n",
       "      <td>0.001760</td>\n",
       "    </tr>\n",
       "    <tr>\n",
       "      <th>2</th>\n",
       "      <td>EDH2</td>\n",
       "      <td>99.785000</td>\n",
       "      <td>0.00073</td>\n",
       "      <td>2022-03-16</td>\n",
       "      <td>2022-06-16</td>\n",
       "      <td>1.144444</td>\n",
       "      <td>1.244444</td>\n",
       "      <td>0.001420</td>\n",
       "    </tr>\n",
       "    <tr>\n",
       "      <th>3</th>\n",
       "      <td>EDM2</td>\n",
       "      <td>99.680000</td>\n",
       "      <td>0.00165</td>\n",
       "      <td>2022-06-15</td>\n",
       "      <td>2022-09-15</td>\n",
       "      <td>1.241667</td>\n",
       "      <td>1.341667</td>\n",
       "      <td>0.001550</td>\n",
       "    </tr>\n",
       "    <tr>\n",
       "      <th>4</th>\n",
       "      <td>EDU2</td>\n",
       "      <td>99.520000</td>\n",
       "      <td>0.00287</td>\n",
       "      <td>2022-09-21</td>\n",
       "      <td>2022-12-21</td>\n",
       "      <td>1.358333</td>\n",
       "      <td>1.458333</td>\n",
       "      <td>0.001930</td>\n",
       "    </tr>\n",
       "  </tbody>\n",
       "</table>\n",
       "</div>"
      ],
      "text/plain": [
       "  USD Rate MKT Data  Unnamed: 1  Conv, adj  StartDate    EndDate  \\\n",
       "0           Libor3m    0.001295        NaN 2021-10-28 2022-01-28   \n",
       "1              EDZ1   99.810000    0.00014 2021-12-15 2022-03-15   \n",
       "2              EDH2   99.785000    0.00073 2022-03-16 2022-06-16   \n",
       "3              EDM2   99.680000    0.00165 2022-06-15 2022-09-15   \n",
       "4              EDU2   99.520000    0.00287 2022-09-21 2022-12-21   \n",
       "\n",
       "   StartDateShare  EndDateShare     rates  \n",
       "0        0.411111      1.111111  0.001295  \n",
       "1        0.441667      1.141667  0.001760  \n",
       "2        1.144444      1.244444  0.001420  \n",
       "3        1.241667      1.341667  0.001550  \n",
       "4        1.358333      1.458333  0.001930  "
      ]
     },
     "execution_count": 7,
     "metadata": {},
     "output_type": "execute_result"
    }
   ],
   "source": [
    "data.head()"
   ]
  },
  {
   "cell_type": "markdown",
   "metadata": {},
   "source": [
    "Получим массивы, которые будут поданы на вход интерполятору."
   ]
  },
  {
   "cell_type": "code",
   "execution_count": 8,
   "metadata": {},
   "outputs": [],
   "source": [
    "index = np.array(list(data[\"StartDateShare\"]) + list(data[\"EndDateShare\"]))\n",
    "rates = np.array(list(data[\"rates\"]) * 2)"
   ]
  },
  {
   "cell_type": "code",
   "execution_count": 9,
   "metadata": {},
   "outputs": [],
   "source": [
    "index_sort = index.argsort()\n",
    "rates = rates[index_sort]\n",
    "index.sort()"
   ]
  },
  {
   "cell_type": "code",
   "execution_count": 10,
   "metadata": {},
   "outputs": [
    {
     "data": {
      "text/plain": [
       "array([0.41111111, 0.44166667, 1.11111111, 1.14166667, 1.14444444,\n",
       "       1.24166667, 1.24444444, 1.34166667, 1.35833333, 1.45833333,\n",
       "       1.45833333, 2.14166667, 2.15833333, 2.24166667, 2.25833333,\n",
       "       2.35555556, 2.35833333, 2.45555556, 2.45555556, 3.15555556,\n",
       "       3.15555556, 3.25277778, 3.25555556, 3.35      , 3.35277778,\n",
       "       3.45      ])"
      ]
     },
     "execution_count": 10,
     "metadata": {},
     "output_type": "execute_result"
    }
   ],
   "source": [
    "index"
   ]
  },
  {
   "cell_type": "code",
   "execution_count": 11,
   "metadata": {},
   "outputs": [],
   "source": [
    "class LinearInterpolation:\n",
    "    \"\"\"\n",
    "        Class for linear interolation. Work only for scalar function.\n",
    "    \"\"\"\n",
    "    def __init__(self, x, y):\n",
    "        \"\"\"\n",
    "            Params:\n",
    "                x: array of function arguments\n",
    "                y: array of responses\n",
    "        \"\"\"\n",
    "        self.x = x\n",
    "        self.y = y\n",
    "    \n",
    "    def interpolate(self, z):\n",
    "        \"\"\"\n",
    "            Params:\n",
    "                z: scalar argument\n",
    "            Return:\n",
    "                y: response\n",
    "        \"\"\"\n",
    "        ind = ((self.x - z) > 0).argmax()\n",
    "        y = self.y[ind-1] + (self.y[ind] - self.y[ind-1]) / (self.x[ind] - self.x[ind-1]) * (z - self.x[ind-1])\n",
    "        return y"
   ]
  },
  {
   "cell_type": "code",
   "execution_count": 12,
   "metadata": {},
   "outputs": [],
   "source": [
    "import numpy as np\n",
    "z = np.linspace(index.min(), index.max(), 1000)\n",
    "interpolate_rates = []\n",
    "for i in z:\n",
    "    interpolate_rates.append(LinearInterpolation(index, rates).interpolate(i))\n",
    "interpolate_rates = np.array(interpolate_rates)"
   ]
  },
  {
   "cell_type": "markdown",
   "metadata": {},
   "source": [
    "Визуализируем интерполяцию между ставками."
   ]
  },
  {
   "cell_type": "code",
   "execution_count": 16,
   "metadata": {},
   "outputs": [
    {
     "data": {
      "image/png": "[encoded data removed]",
      "text/plain": [
       "<Figure size 720x432 with 1 Axes>"
      ]
     },
     "metadata": {
      "needs_background": "light"
     },
     "output_type": "display_data"
    }
   ],
   "source": [
    "import matplotlib.pyplot as plt\n",
    "fig = plt.figure(figsize=(10, 6))\n",
    "plt.title(\"Rates interpolation\", fontsize=18)\n",
    "plt.xlabel(\"Share of the year\", fontsize=16)\n",
    "plt.ylabel(\"Rate\", fontsize=16)\n",
    "plt.plot(z, interpolate_rates, c=\"navy\", label=\"interpolation\")\n",
    "plt.scatter(index, rates, c=\"orange\")\n",
    "plt.legend()\n",
    "plt.grid()\n",
    "plt.show()"
   ]
  },
  {
   "cell_type": "markdown",
   "metadata": {},
   "source": [
    "Получим и визуализируем кривую доходностей."
   ]
  },
  {
   "cell_type": "code",
   "execution_count": 14,
   "metadata": {},
   "outputs": [],
   "source": [
    "yield_curve = 100 / (1+interpolate_rates)"
   ]
  },
  {
   "cell_type": "code",
   "execution_count": 15,
   "metadata": {},
   "outputs": [
    {
     "data": {
      "image/png": "[encoded data removed]",
      "text/plain": [
       "<Figure size 720x432 with 1 Axes>"
      ]
     },
     "metadata": {
      "needs_background": "light"
     },
     "output_type": "display_data"
    }
   ],
   "source": [
    "fig = plt.figure(figsize=(10, 6))\n",
    "plt.title(\"Yield curve\", fontsize=18)\n",
    "plt.xlabel(\"Share of the year\", fontsize=16)\n",
    "plt.ylabel(\"PV\", fontsize=16)\n",
    "plt.plot(z, yield_curve, c=\"navy\")\n",
    "#plt.legend()\n",
    "plt.grid()\n",
    "plt.show()"
   ]
  },
  {
   "cell_type": "markdown",
   "metadata": {},
   "source": [
    "Кривая выглядит достаточно странно, слишком много флуктуаций. Может быть я сделал что-то не то."
   ]
  },
  {
   "cell_type": "code",
   "execution_count": null,
   "metadata": {},
   "outputs": [],
   "source": []
  }
 ],
 "metadata": {
  "kernelspec": {
   "display_name": "Python 3",
   "language": "python",
   "name": "python3"
  },
  "language_info": {
   "codemirror_mode": {
    "name": "ipython",
    "version": 3
   },
   "file_extension": ".py",
   "mimetype": "text/x-python",
   "name": "python",
   "nbconvert_exporter": "python",
   "pygments_lexer": "ipython3",
   "version": "3.7.0"
  }
 },
 "nbformat": 4,
 "nbformat_minor": 2
}
