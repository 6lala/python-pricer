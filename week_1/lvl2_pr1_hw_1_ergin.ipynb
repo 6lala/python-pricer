{
  "nbformat": 4,
  "nbformat_minor": 0,
  "metadata": {
    "colab": {
      "name": "lvl2_pr1_hw_1_ergin.ipynb",
      "provenance": [],
      "collapsed_sections": []
    },
    "kernelspec": {
      "name": "python3",
      "display_name": "Python 3"
    },
    "language_info": {
      "name": "python"
    }
  },
  "cells": [
    {
      "cell_type": "code",
      "metadata": {
        "id": "WmXKBQM_gdQO"
      },
      "source": [
        "import calendar\n",
        "from dateutil.relativedelta import relativedelta\n",
        "\n",
        "class Curve:\n",
        "  def __init__(self, futures):\n",
        "    futures = futures.T\n",
        "    f_exp_dates = self.apply(futures[0], self.get_fut_date)\n",
        "    f_start_dates = np.apply_along_axis(\n",
        "        lambda x: datetime(x[1], x[0],  1) + relativedelta(months=-3), \n",
        "        0, f_exp_dates)\n",
        "    f_price = futures[1]\n",
        "    libor = 1 - f_price/100\n",
        "    df = 1/(1 + 1/4 * libor) #все евродоллар фьючерсы сроком 3 месяца\n",
        "    self.f_start_interp = self.apply(f_start_dates, self.get_timestamp)\n",
        "    self.df = df.astype(float)\n",
        "\n",
        "  def get_fut_date(self, name):\n",
        "    month = {\n",
        "        'F': 1, 'G': 2, 'H': 3,\n",
        "        'J': 4, 'K': 5, 'M': 6,\n",
        "        'N': 7, 'Q': 8, 'U': 9,\n",
        "        'V': 10, 'X': 11, 'Z': 12,\n",
        "            }\n",
        "    name = name[0]       \n",
        "    f_m = month[name[-2]]\n",
        "    f_y = int('202' + name[-1])\n",
        "    return (f_m, f_y)\n",
        "\n",
        "  def get_timestamp(self, date):\n",
        "    date = date[0]\n",
        "    date = datetime(date.year, date.month, date.day)\n",
        "    return calendar.timegm(date.timetuple())\n",
        "\n",
        "  def apply(self, data, func):\n",
        "    return np.apply_along_axis(func, 1, data.reshape(-1, 1)).T\n",
        "\n",
        "  def get_df_curve(self, dates):\n",
        "    dates = dates.astype(datetime)\n",
        "    dates_interp = self.apply(dates, self.get_timestamp)\n",
        "    df_interp = np.interp(dates_interp, self.f_start_interp, self.df)\n",
        "    #не совсем понимаю, что должна показывать discount curve:\n",
        "    #дисконт фактор для интервала 0, t_i, для точки t_i или \n",
        "    #показывать df для периода 3 месяца с момента t_i\n",
        "    df_cum = np.cumprod(df_interp)\n",
        "    result_option_1 = np.stack([dates, df_cum]).T\n",
        "    result_option_2 = np.stack([dates, df_interp]).T\n",
        "    result_option_1.T[0] = result_option_1.T[0].astype(np.datetime64) \n",
        "    return (result_option_1, result_option_2)"
      ],
      "execution_count": 331,
      "outputs": []
    },
    {
      "cell_type": "code",
      "metadata": {
        "id": "H2-PVTEp2pup"
      },
      "source": [
        "import pandas as pd\n",
        "data = pd.read_csv('/content/forward.csv', sep=';')\n",
        "data = data[['MONTH', 'PRIOR']].dropna()\n",
        "data.loc[6, 'PRIOR'] = np.mean([data.loc[5, 'PRIOR'], data.loc[7, 'PRIOR']])\n",
        "data"
      ],
      "execution_count": null,
      "outputs": []
    },
    {
      "cell_type": "code",
      "metadata": {
        "id": "5gQU6du84Dlk"
      },
      "source": [
        "start_data = data.values"
      ],
      "execution_count": 164,
      "outputs": []
    },
    {
      "cell_type": "code",
      "metadata": {
        "id": "qXn6QlIOHq5l"
      },
      "source": [
        "curve = Curve(start_data)\n",
        "interp = curve.get_df_curve(checking_dates)"
      ],
      "execution_count": 332,
      "outputs": []
    },
    {
      "cell_type": "code",
      "metadata": {
        "id": "oXEhw1jP3kf8"
      },
      "source": [
        "from datetime import date, timedelta\n",
        "\n",
        "sdate = date(2021, 11, 1)   # start date\n",
        "edate = date(2029, 12, 1)   # end date\n",
        "\n",
        "delta = edate - sdate       # as timedelta\n",
        "\n",
        "checking_dates = np.array([sdate + timedelta(days=i) for i in range(delta.days + 1)]).astype(np.datetime64)"
      ],
      "execution_count": 162,
      "outputs": []
    },
    {
      "cell_type": "code",
      "metadata": {
        "colab": {
          "base_uri": "https://localhost:8080/",
          "height": 541
        },
        "id": "_8s_MWB_CPIU",
        "outputId": "827a1b5d-5ddb-489c-a69f-88ce2f0344fc"
      },
      "source": [
        "pd.DataFrame(interp[0]).rename(columns={0:'date', 1:'DF'}).plot(x=0, y=1, grid=True)\n",
        "pd.DataFrame(interp[1]).rename(columns={0:'date', 1:'DF'}).plot(x=0, y=1, grid=True)\n",
        "plt.show()"
      ],
      "execution_count": 333,
      "outputs": [
        {
          "output_type": "display_data",
          "data": {
            "image/png": "[encoded data removed]",
            "text/plain": [
              "<Figure size 432x288 with 1 Axes>"
            ]
          },
          "metadata": {
            "needs_background": "light"
          }
        },
        {
          "output_type": "display_data",
          "data": {
            "image/png": "[encoded data removed]",
            "text/plain": [
              "<Figure size 432x288 with 1 Axes>"
            ]
          },
          "metadata": {
            "needs_background": "light"
          }
        }
      ]
    }
  ]
}